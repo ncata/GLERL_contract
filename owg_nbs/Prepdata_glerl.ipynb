{
 "cells": [
  {
   "cell_type": "markdown",
   "id": "420be7b7",
   "metadata": {},
   "source": [
    "\n",
    "# Prepare ReCON Webcam Images for Optical Wave Gauging\n",
    "\n",
    "This code was written by [Nicholas Catanzaro](https://github.com/ncata/GLERL_contract) for NOAA GLERL "
   ]
  },
  {
   "cell_type": "markdown",
   "id": "aaea086b",
   "metadata": {},
   "source": [
    "#### Note: may integrate prep csv code\n",
    "\n",
    "##### Functionality\n",
    "This notebook is a work in progress. It contains code for functions that will be put into a .py file. It is arranged to walk the reader through the author's logic and allow a variety of people who may be unfamiliar with the OWG or Jupyter to implement the code. \n"
   ]
  },
  {
   "cell_type": "code",
   "execution_count": 1,
   "id": "c596ebea",
   "metadata": {},
   "outputs": [],
   "source": [
    "import os\n",
    "import shutil\n",
    "from PIL import Image\n",
    "import numpy as np\n",
    "from distutils.dir_util import copy_tree\n",
    "import matplotlib.pyplot as plt\n",
    "import time\n",
    "import cv2\n",
    "from pathlib import Path"
   ]
  },
  {
   "cell_type": "code",
   "execution_count": 5,
   "id": "5c871d42-93d7-4c5c-90ae-21874abc2f5a",
   "metadata": {},
   "outputs": [],
   "source": [
    "import argparse"
   ]
  },
  {
   "cell_type": "code",
   "execution_count": 2,
   "id": "99eabd26",
   "metadata": {},
   "outputs": [],
   "source": [
    "def estimate_sharpness(img): \n",
    "    \"\"\"\n",
    "    Estimate image sharpness \n",
    "    Input:\n",
    "        img - np.ndarray representing image\n",
    "              img read as skimage.io.imread( 'imagefilename.jpg' )\n",
    "    Returns:\n",
    "        s - sharpness estimates\n",
    "\n",
    "    adapted from https://stackoverflow.com/questions/6646371/detect-which-image-is-sharper\n",
    "    \"\"\"\n",
    "    gy, gx = np.gradient(img)\n",
    "    gnorm = np.sqrt(gx**2 + gy**2)\n",
    "    sharpness = np.average(gnorm)\n",
    "    return sharpness\n",
    "# edited to remove the part where they convert to grayscale as my images already are grayscale. Removed contrast because I do not need it"
   ]
  },
  {
   "cell_type": "code",
   "execution_count": null,
   "id": "f664a0b0-a47b-4e56-bc27-c23ce443ec9b",
   "metadata": {},
   "outputs": [],
   "source": []
  },
  {
   "cell_type": "markdown",
   "id": "55bab47b-6d5e-4d6c-899c-bed1097eadd3",
   "metadata": {},
   "source": [
    "\n",
    "## New Blur Code\n",
    "\n"
   ]
  },
  {
   "cell_type": "code",
   "execution_count": 20,
   "id": "959fb162-1cbf-4ebf-8715-b52dff6fb8e0",
   "metadata": {
    "tags": []
   },
   "outputs": [
    {
     "name": "stdout",
     "output_type": "stream",
     "text": [
      "360.36116584189836 750.2433132675526 408.7588753856966\n"
     ]
    }
   ],
   "source": [
    "\n",
    "#test effectiveness of Laplacian\n",
    "\n",
    "# No raindrops\n",
    "img = cv2.imread('D:/ReCON_imgs/2021/mcy/20210411_1133.02.jpg')\n",
    "x = cv2.Laplacian(img, cv2.CV_64F).var()\n",
    "\n",
    "# Some raindrops\n",
    "img = cv2.imread('D:/ReCON_imgs/2021/mcy/20210410_2133.02.jpg')\n",
    "y = cv2.Laplacian(img, cv2.CV_64F).var()\n",
    "\n",
    "# Most raindrops\n",
    "img = cv2.imread('D:/ReCON_imgs/2021/mcy/20210410_1833.02.jpg')\n",
    "z = cv2.Laplacian(img, cv2.CV_64F).var()\n",
    "\n",
    "\n",
    "print (x, y, z)\n",
    "\n",
    "# Laplacian typically predicts that higher valuies are less blurry. The algorthim uses feature detection. More features, less blur right? Not quite here. The rain drops are eessntially placing features   \n",
    "# into the image. So we can predict that the lower the value, the less blurr! This will need to be proven and documented. The fact that the most raindrops did not caujse the most blur is interesting.\n",
    "# the second image had the most visible waves on the water. A follow up question is how much raindrops interfere with the OWG."
   ]
  },
  {
   "cell_type": "markdown",
   "id": "a0a33ad6-89d9-4c12-bf35-c4ac9061be75",
   "metadata": {},
   "source": [
    "\n",
    "## New Brightness Code\n",
    "\n",
    "Walk through of code logic and original code from Rodrigo Loza can be found [here](https://www.youtube.com/watch?v=dfcrYIu5LNo)  It requires a presorted lsit of day and night images however, so may be of limited usefulness. Relying on intesity may be just as reliable and much simpler. "
   ]
  },
  {
   "cell_type": "code",
   "execution_count": null,
   "id": "38d6bb2b-f129-4ffb-bdcd-69d587b9868d",
   "metadata": {},
   "outputs": [],
   "source": [
    "# code to identify the constant (theta) \n",
    "tb = []\n",
    "tn = []\n",
    "\n",
    "for img in os.listdir('.'):\n",
    "    if img.startswit('b'):\n",
    "        frame = cv2.imread(img)\n",
    "        tb.append(np.sum(np.sum(frame))/(frame.shape[0]*frame.shape[1]*frame.shape[2]))\n",
    "        \n",
    "    elif img.startsiwth('n'):\n",
    "        frame = cv2.imread(img)\n",
    "        tn.append(np.sum(np.sum(frame))/(frame.shape[0]*frame.shape[1]*frame.shape[2]))\n",
    "        \n",
    "    else:\n",
    "        pass\n",
    "\n",
    "theta = (np.sum(tb) + np.sum(n)) / 2.0"
   ]
  },
  {
   "cell_type": "markdown",
   "id": "ef610246",
   "metadata": {},
   "source": [
    "## Function version 2.0"
   ]
  },
  {
   "cell_type": "code",
   "execution_count": 3,
   "id": "39477abf",
   "metadata": {},
   "outputs": [],
   "source": [
    "def prepowgimgs(year, directory, arrayshape, resolution, trial, viewlist):\n",
    "    '''Create a new directory for images in each view and run QC and primary augmentation before interpolation and then model \n",
    "    training, validation, or testing. version 2.0\n",
    "    \n",
    "    Year is the target year of images, \n",
    "    directory is where the year files are stored,\n",
    "    resolution is the resolutiont the images will be reduced to, \n",
    "    trial is the name of the trial that these inputs are associate with. A record of trial details should be kept by hand and stored\n",
    "    in C:/njc/src/SSF/OWG/OWG_records/trial. \n",
    "    viewlist is a list of the view numbers found in the target year folder\n",
    "    '''\n",
    "    start = time.time()\n",
    "    #set counters \n",
    "    counter = 0\n",
    "    nightcounter = 0\n",
    "    blurcounter = 0\n",
    "    failcounter = 0\n",
    "    \n",
    "    # create a new directory with the called year_imgprep \n",
    "    foldername = \"/{}_imgprep\".format(str(year))\n",
    "    newdir = directory+foldername+\"{}\".format(trial)\n",
    "    try:\n",
    "        shutil.rmtree(newdir)\n",
    "        print(\"Folder found: deleting contents\")\n",
    "        print(\"Creating folder\")\n",
    "        os.mkdir(newdir)\n",
    "    except:\n",
    "        print(\"Creating folder\")\n",
    "        #os.mkdir(newdir)\n",
    "\n",
    "    # copy files into new directory, this can take a while\n",
    "    print(\"Moving Files\")\n",
    "    #copy_tree(directory+\"/{}\".format(str(year)), newdir)\n",
    "    copy_tree(directory, newdir)\n",
    "    \n",
    "    # seperate the views into different folders within the directory\n",
    "    viewdirs = []\n",
    "    for view in viewlist:\n",
    "        print(\"Seperating View {}\".format(view))\n",
    "        viewpath = newdir+\"/view{}\".format(view)\n",
    "        viewdirs.append(viewpath)\n",
    "        os.mkdir(viewpath) \n",
    "    \n",
    "    \n",
    "    for viewpath in viewdirs:\n",
    "        print (\"Moving images to {}\".format(viewpath))\n",
    "        # move images into views\n",
    "        for filename in os.listdir(newdir):\n",
    "            if filename[-5] == viewpath[-1]:\n",
    "                os.rename(newdir+\"/{}\".format(filename), viewpath+\"/{}\".format(filename.replace(filename[13:16],\"\")))   \n",
    "        \n",
    "        # edit images from desired view into cropped lower resolution grayscale and store in new folder\n",
    "        print (\"Augmenting and filtering imgaes in {}\".format(viewpath))\n",
    "        for filename in os.listdir(viewpath):\n",
    "            if filename.endswith(\".jpg\"):\n",
    "                image = Image.open(viewpath+\"/{}\".format(filename)).convert(\"L\")\n",
    "            \n",
    "                # select target portion of image to make it square\n",
    "                bwarray = np.array(image) \n",
    "                small = bwarray[arrayshape]\n",
    "                \n",
    "                # change image resoltuion\n",
    "                img = Image.fromarray(small)\n",
    "                resize = (resolution, resolution)\n",
    "                smaller = img.resize(resize)\n",
    "               \n",
    "                #Get QC metrics\n",
    "                sharpness = estimate_sharpness(np.asarray(smaller))\n",
    "                avgintensity = np.mean(np.asarray(smaller))\n",
    "                \n",
    "                # perform QC\n",
    "                if sharpness < 3.5 or avgintensity < 85:\n",
    "                #if avgintensity < 85:\n",
    "                    os.remove(viewpath+\"/\"+filename)\n",
    "                    failcounter = failcounter + 1\n",
    "                else:\n",
    "                    # save images to OWG directory\n",
    "                    try:\n",
    "                        counter = counter + 1\n",
    "                        owgimage = smaller.save(viewpath+\"/{}\".format(filename))\n",
    "                    except IOError:\n",
    "                        print(\"cannot create image for\", filename)\n",
    "                        failcounter = failcounter + 1\n",
    "        \n",
    "                    # remove the underscore in the filename\n",
    "                    os.rename(viewpath+\"/\"+filename, viewpath+\"/\"+filename.replace(\"_\",\"\"))\n",
    "                    \n",
    "    print (failcounter, \"images removed for quality control\")\n",
    "    print (counter, \"images processed\")\n",
    "    end = time.time()   \n",
    "    return print (\"Completed in {} minutes.\".format((end - start)/60))"
   ]
  },
  {
   "cell_type": "markdown",
   "id": "e5c283c4",
   "metadata": {},
   "source": [
    "#### Test function version 2.0"
   ]
  },
  {
   "cell_type": "code",
   "execution_count": 88,
   "id": "dffdc780",
   "metadata": {
    "scrolled": true
   },
   "outputs": [
    {
     "name": "stdout",
     "output_type": "stream",
     "text": [
      "Folder found: deleting contents\n",
      "Creating folder\n",
      "Moving Files\n",
      "Seperating View 1\n",
      "Seperating View 2\n",
      "Moving images to C:/njc/src/mcyimgs/2017_imgpreptest/view1\n",
      "Augmenting and filtering imgaes in C:/njc/src/mcyimgs/2017_imgpreptest/view1\n",
      "Moving images to C:/njc/src/mcyimgs/2017_imgpreptest/view2\n",
      "Augmenting and filtering imgaes in C:/njc/src/mcyimgs/2017_imgpreptest/view2\n",
      "5311 images removed for quality control\n",
      "2098 images processed\n",
      "Completed in 2.888287130991618 minutes.\n"
     ]
    }
   ],
   "source": [
    "year = 2017\n",
    "directory = \"C:/njc/src/mcyimgs\"\n",
    "arrayshape = np.index_exp[100:700, 680:1280]\n",
    "resolution = 512\n",
    "trial = 'test'\n",
    "viewlist = [1,2]\n",
    "prepowgimgs(year, directory, arrayshape, resolution, trial, viewlist)"
   ]
  },
  {
   "cell_type": "code",
   "execution_count": 4,
   "id": "d4688416-7a7a-48d4-b05e-3431e7807776",
   "metadata": {},
   "outputs": [
    {
     "name": "stdout",
     "output_type": "stream",
     "text": [
      "Creating folder\n",
      "Moving Files\n",
      "Seperating View 1\n",
      "Seperating View 2\n",
      "Seperating View 3\n",
      "Moving images to D:/ReCON_imgs/2021/mcy/2021_imgpreptest/view1\n",
      "Augmenting and filtering imgaes in D:/ReCON_imgs/2021/mcy/2021_imgpreptest/view1\n",
      "Moving images to D:/ReCON_imgs/2021/mcy/2021_imgpreptest/view2\n",
      "Augmenting and filtering imgaes in D:/ReCON_imgs/2021/mcy/2021_imgpreptest/view2\n",
      "Moving images to D:/ReCON_imgs/2021/mcy/2021_imgpreptest/view3\n",
      "Augmenting and filtering imgaes in D:/ReCON_imgs/2021/mcy/2021_imgpreptest/view3\n",
      "232 images removed for quality control\n",
      "4471 images processed\n",
      "Completed in 5.550929307937622 minutes.\n"
     ]
    }
   ],
   "source": [
    "year = 2021\n",
    "directory = \"D:/ReCON_imgs/2021/mcy\"\n",
    "arrayshape = np.index_exp[100:700, 680:1280]\n",
    "resolution = 512\n",
    "trial = 'test'\n",
    "viewlist = [1,2,3]\n",
    "prepowgimgs(year, directory, arrayshape, resolution, trial, viewlist)"
   ]
  },
  {
   "cell_type": "markdown",
   "id": "acf38aa6",
   "metadata": {},
   "source": [
    "### Select out random images from a year to use as validation data\n",
    "csv's generated from functions in csv_interpolation notebook"
   ]
  },
  {
   "cell_type": "code",
   "execution_count": 1,
   "id": "ed2ad280",
   "metadata": {},
   "outputs": [],
   "source": [
    "import pandas as pd\n",
    "df = pd.read_csv('C:/njc/src/SSF/OWG/mcyv22017trial3.csv', sep = \",\", index_col=False)\n",
    "df\n",
    "# random sample ~30%\n",
    "dfs = df.sample(n= int(.3*819))\n",
    "dfs.reset_index(drop=True, inplace=True)\n",
    "dfs\n",
    "dfs.to_csv('C:/njc/src/SSF/OWG/mcyv22017(30trial3).csv', sep = \",\")"
   ]
  },
  {
   "cell_type": "markdown",
   "id": "40baa602",
   "metadata": {},
   "source": [
    "### Drop rows of original dataframe if they have been randomly selected for validation\n",
    "this creates the csv file that will be used to train the OWG"
   ]
  },
  {
   "cell_type": "code",
   "execution_count": 2,
   "id": "6d40ba49",
   "metadata": {},
   "outputs": [],
   "source": [
    "# load in the dataframes\n",
    "total = pd.read_csv('C:/njc/src/SSF/OWG/mcyv22017trial3.csv', sep = \",\", index_col=False)\n",
    "validation = pd.read_csv('C:/njc/src/SSF/OWG/mcyv22017(30trial3).csv', sep = \",\", index_col=False)\n",
    "\n",
    "# if the imagename in the total dataframe exists in the validation dataframe do not include it in the train dataframe. \n",
    "# the ~ inverts the boolean indexing, which we need to do because only True values will be kept and they start as False as they are not in the validation dataframe\n",
    "train = total[~total.id.isin(validation.id)]\n",
    "train\n",
    "train.to_csv('C:/njc/src/SSF/OWG/mcyv22017trial3train.csv', sep = \",\")"
   ]
  }
 ],
 "metadata": {
  "kernelspec": {
   "display_name": "Python 3 (ipykernel)",
   "language": "python",
   "name": "python3"
  },
  "language_info": {
   "codemirror_mode": {
    "name": "ipython",
    "version": 3
   },
   "file_extension": ".py",
   "mimetype": "text/x-python",
   "name": "python",
   "nbconvert_exporter": "python",
   "pygments_lexer": "ipython3",
   "version": "3.7.13"
  }
 },
 "nbformat": 4,
 "nbformat_minor": 5
}
