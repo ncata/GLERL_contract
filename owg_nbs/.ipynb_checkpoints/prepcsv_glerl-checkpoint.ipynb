{
 "cells": [
  {
   "cell_type": "markdown",
   "id": "9e232f9a-6a7a-49cf-8caa-d45aa81e9111",
   "metadata": {},
   "source": [
    "# Prepare a CSV file for the OWG"
   ]
  },
  {
   "cell_type": "markdown",
   "id": "746a17dc-456c-4269-9e2f-659b54b3a755",
   "metadata": {},
   "source": [
    "This notebook contains code as a function and a walk through for creating a csv file that can be use in optical wave gauging"
   ]
  },
  {
   "cell_type": "code",
   "execution_count": 1,
   "id": "d1253f43-1469-4d30-b07d-d87511fdf51e",
   "metadata": {},
   "outputs": [],
   "source": [
    "# import packages and libs\n",
    "\n",
    "import matplotlib.pyplot as plt\n",
    "import numpy as np\n",
    "import pandas as pd\n",
    "import time\n",
    "import datetime\n",
    "import calendar\n",
    "from scipy import interpolate\n",
    "import os\n",
    "import shutil\n",
    "import csv"
   ]
  },
  {
   "cell_type": "markdown",
   "id": "30abc9df-d19d-4062-b93c-05d51502eca7",
   "metadata": {},
   "source": [
    "\n",
    "## Read data\n",
    "\n",
    "Data comes from two sources:  \n",
    "* 1. NDBC standard meteorlogical observation archives, found [here](https://www.ndbc.noaa.gov/) \n",
    "* 2. Archived ReCON imagery, partial records can be scraped from the [website](https://www.glerl.noaa.gov/metdata/) or accessed from GLERL's network\n",
    "\n",
    "\n",
    "This data must be joined so that each webcam image is associated with meterological observations taken no later than 30 minutes before or after the image was taken."
   ]
  },
  {
   "cell_type": "code",
   "execution_count": 4,
   "id": "6eb19735-f13a-4ddf-aae3-23a2426b71e6",
   "metadata": {},
   "outputs": [],
   "source": [
    "# prepare the buoy data for joining\n",
    "\n",
    "def readwavetxt(fn, target):\n",
    "    '''Take a  txt file and return a dataframe\n",
    "    \n",
    "    variables:\n",
    "    fn: filename and location of .txt file\n",
    "    target: attribute that the owg will be predicting'''\n",
    "    df = pd.read_csv(fn, skiprows=range(1,2), delim_whitespace = True, \\\n",
    "                    parse_dates={'date':[0,1,2,3,4]}, keep_date_col=False)\n",
    "\n",
    "    # Transfer data in \"date\" column to a column where it is stored as a datetime object\n",
    "    df['datetime'] = pd.to_datetime(df['date'], format = '%Y %m %d %H %M',utc=True)\n",
    "    df = df.drop(df.columns[[0,1,2,3,6,8,9,10,11,12, 13]], axis = 1)\n",
    "    \n",
    "    # calculate unix datetime\n",
    "    df['epoch']=(df['datetime'] - pd.Timestamp(\"1970-01-01\",tz='utc')) // pd.Timedelta('1s')\n",
    "    \n",
    "    # remove data with NaN values \n",
    "    if target == \"WVHT\":\n",
    "        df = df[df['WVHT'] < 99.0]\n",
    "    if target == \"DPD\":\n",
    "         df = df[df['DPD'] <99.0]\n",
    "    if target == \"MWD\":\n",
    "        df = df[df['MWD'] < 999]\n",
    "    \n",
    "    # put data frame into a numpy array\n",
    "    waves = df[df.columns[[4,0,1,2]]].to_numpy()\n",
    "    print('array with shape',np.shape(waves))\n",
    "    waves.head()\n",
    "    \n",
    "    \n",
    "    return waves"
   ]
  },
  {
   "cell_type": "code",
   "execution_count": 19,
   "id": "a2fbeabe-17c5-461a-8ce3-8dbfdb8e130b",
   "metadata": {},
   "outputs": [],
   "source": [
    "# Complete csv\n",
    "\n",
    "def waveframetocsv(csvfile, directory):\n",
    "    '''\n",
    "    This function takes a prepared waves dataframe and associates its data with OWG images.\n",
    "   \n",
    "    csvfile is the name of the csvfile being created\n",
    "    directory is the directory of images that have been prepped for OWG filtering\n",
    "    '''\n",
    "    \n",
    "    successcounter = 0\n",
    "    failcounter = 0\n",
    "    timecounter = 0\n",
    "    \n",
    "    # delete the csv file if it exsists\n",
    "    try:\n",
    "        print (\"Overwriting csv file\")\n",
    "        os.remove(csvfile)\n",
    "        with open(csvfile, \"w\") as text_file:\n",
    "            text_file.write(\"id, H, T, MWDIR\\n\")\n",
    "    except:\n",
    "        print(\"couldn't find file, making new one\")\n",
    "        # create csv file that will be appended to by loop\n",
    "        with open(csvfile, \"w\") as text_file:\n",
    "            text_file.write(\"id, H, T, MWDIR\\n\")\n",
    "\n",
    "    #loop through directory and extract unix timestamp\n",
    "    for filename in os.listdir(directory):\n",
    "        # Use string slicing to remove .jpg from filename\n",
    "        size = len(filename)\n",
    "        fn = filename[:size - 4]\n",
    "      \n",
    "        # get time from filename\n",
    "        utime = calendar.timegm(datetime.datetime.strptime(fn, \"%Y%m%d%H%M\").timetuple())\n",
    "        \n",
    "        try:\n",
    "            if utime >= waves['epoch'].iat[0]:\n",
    "                result_index = waves['epoch'].sub(search_value).abs().idxmin()\n",
    "                if abs(utime - waves.iloc[result_index]) <= 30:\n",
    "                    with open (csvfile, \"a\") as text_file:\n",
    "                        text_file.write(\"{0:s},{1:0.2f},{2:0.2f},{3:0.2f}\\n\".format(filename, waves['WVHT'].iat[result_index], waves['DPD'].iat[result_index],waves['MWD'].iat[result_index]))\n",
    "                        successcounter + 1\n",
    "                else:\n",
    "                    timecounter + 1\n",
    "        except:\n",
    "            failcounter + 1\n",
    "                        \n",
    "    return\n",
    "                   "
   ]
  },
  {
   "cell_type": "code",
   "execution_count": null,
   "id": "98ade2ad-6110-4d84-aaf2-c96cf5837cd6",
   "metadata": {},
   "outputs": [],
   "source": []
  }
 ],
 "metadata": {
  "kernelspec": {
   "display_name": "Python 3 (ipykernel)",
   "language": "python",
   "name": "python3"
  },
  "language_info": {
   "codemirror_mode": {
    "name": "ipython",
    "version": 3
   },
   "file_extension": ".py",
   "mimetype": "text/x-python",
   "name": "python",
   "nbconvert_exporter": "python",
   "pygments_lexer": "ipython3",
   "version": "3.7.13"
  }
 },
 "nbformat": 4,
 "nbformat_minor": 5
}
